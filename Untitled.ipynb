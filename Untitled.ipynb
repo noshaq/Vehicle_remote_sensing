{
 "cells": [
  {
   "cell_type": "code",
   "execution_count": 1,
   "metadata": {
    "collapsed": true
   },
   "outputs": [],
   "source": [
    "%matplotlib inline\n",
    "\n",
    "import numpy as np\n",
    "import scipy as sp\n",
    "import pandas as pd\n",
    "from pandas import set_option\n",
    "import seaborn as sns\n",
    "sns.set_style('darkgrid')\n",
    "sns.set_palette('muted')\n",
    "sns.set_context(\"notebook\", font_scale=1.5, rc={\"lines.linewidth\": 2.5})\n",
    "import matplotlib as mpl\n",
    "import matplotlib.pyplot as plt\n",
    "import matplotlib.ticker as ticker\n",
    "import matplotlib.dates as md\n",
    "import matplotlib.colors as colors\n",
    "from mpl_toolkits.axes_grid1 import make_axes_locatable\n",
    "import sklearn\n",
    "import statsmodels as stm\n",
    "import patsy"
   ]
  },
  {
   "cell_type": "code",
   "execution_count": 2,
   "metadata": {},
   "outputs": [
    {
     "data": {
      "text/html": [
       "<div>\n",
       "<style scoped>\n",
       "    .dataframe tbody tr th:only-of-type {\n",
       "        vertical-align: middle;\n",
       "    }\n",
       "\n",
       "    .dataframe tbody tr th {\n",
       "        vertical-align: top;\n",
       "    }\n",
       "\n",
       "    .dataframe thead th {\n",
       "        text-align: right;\n",
       "    }\n",
       "</style>\n",
       "<table border=\"1\" class=\"dataframe\">\n",
       "  <thead>\n",
       "    <tr style=\"text-align: right;\">\n",
       "      <th></th>\n",
       "      <th>gps_speed</th>\n",
       "      <th>cTemp</th>\n",
       "      <th>eLoad</th>\n",
       "      <th>iat</th>\n",
       "      <th>imap</th>\n",
       "      <th>rpm</th>\n",
       "      <th>speed</th>\n",
       "      <th>maf</th>\n",
       "      <th>tPos</th>\n",
       "      <th>kpl</th>\n",
       "    </tr>\n",
       "  </thead>\n",
       "  <tbody>\n",
       "    <tr>\n",
       "      <th>0</th>\n",
       "      <td>0.108967</td>\n",
       "      <td>0.363636</td>\n",
       "      <td>0.490119</td>\n",
       "      <td>0.377778</td>\n",
       "      <td>0.013986</td>\n",
       "      <td>0.294648</td>\n",
       "      <td>0.014925</td>\n",
       "      <td>0.014925</td>\n",
       "      <td>0.014925</td>\n",
       "      <td>0.025441</td>\n",
       "    </tr>\n",
       "    <tr>\n",
       "      <th>1</th>\n",
       "      <td>0.137183</td>\n",
       "      <td>0.363636</td>\n",
       "      <td>0.482213</td>\n",
       "      <td>0.377778</td>\n",
       "      <td>0.013986</td>\n",
       "      <td>0.294828</td>\n",
       "      <td>0.000000</td>\n",
       "      <td>0.000000</td>\n",
       "      <td>0.000000</td>\n",
       "      <td>0.001042</td>\n",
       "    </tr>\n",
       "    <tr>\n",
       "      <th>2</th>\n",
       "      <td>0.143021</td>\n",
       "      <td>0.363636</td>\n",
       "      <td>0.482213</td>\n",
       "      <td>0.377778</td>\n",
       "      <td>0.006993</td>\n",
       "      <td>0.293657</td>\n",
       "      <td>0.000332</td>\n",
       "      <td>0.000332</td>\n",
       "      <td>0.000332</td>\n",
       "      <td>0.001593</td>\n",
       "    </tr>\n",
       "    <tr>\n",
       "      <th>3</th>\n",
       "      <td>0.144967</td>\n",
       "      <td>0.376623</td>\n",
       "      <td>0.494071</td>\n",
       "      <td>0.377778</td>\n",
       "      <td>0.013986</td>\n",
       "      <td>0.292755</td>\n",
       "      <td>0.000663</td>\n",
       "      <td>0.000663</td>\n",
       "      <td>0.000663</td>\n",
       "      <td>0.002144</td>\n",
       "    </tr>\n",
       "    <tr>\n",
       "      <th>4</th>\n",
       "      <td>0.149831</td>\n",
       "      <td>0.376623</td>\n",
       "      <td>0.474308</td>\n",
       "      <td>0.377778</td>\n",
       "      <td>0.013986</td>\n",
       "      <td>0.294738</td>\n",
       "      <td>0.000995</td>\n",
       "      <td>0.000995</td>\n",
       "      <td>0.000995</td>\n",
       "      <td>0.002695</td>\n",
       "    </tr>\n",
       "  </tbody>\n",
       "</table>\n",
       "</div>"
      ],
      "text/plain": [
       "   gps_speed     cTemp     eLoad       iat      imap       rpm     speed  \\\n",
       "0   0.108967  0.363636  0.490119  0.377778  0.013986  0.294648  0.014925   \n",
       "1   0.137183  0.363636  0.482213  0.377778  0.013986  0.294828  0.000000   \n",
       "2   0.143021  0.363636  0.482213  0.377778  0.006993  0.293657  0.000332   \n",
       "3   0.144967  0.376623  0.494071  0.377778  0.013986  0.292755  0.000663   \n",
       "4   0.149831  0.376623  0.474308  0.377778  0.013986  0.294738  0.000995   \n",
       "\n",
       "        maf      tPos       kpl  \n",
       "0  0.014925  0.014925  0.025441  \n",
       "1  0.000000  0.000000  0.001042  \n",
       "2  0.000332  0.000332  0.001593  \n",
       "3  0.000663  0.000663  0.002144  \n",
       "4  0.000995  0.000995  0.002695  "
      ]
     },
     "execution_count": 2,
     "metadata": {},
     "output_type": "execute_result"
    }
   ],
   "source": [
    "data = pd.read_csv('data_prepared_almost_continuous.csv', index_col=0)\n",
    "data.head()"
   ]
  },
  {
   "cell_type": "code",
   "execution_count": 3,
   "metadata": {},
   "outputs": [
    {
     "ename": "SyntaxError",
     "evalue": "unexpected EOF while parsing (<ipython-input-3-c82159ef26a0>, line 1)",
     "output_type": "error",
     "traceback": [
      "\u001b[0;36m  File \u001b[0;32m\"<ipython-input-3-c82159ef26a0>\"\u001b[0;36m, line \u001b[0;32m1\u001b[0m\n\u001b[0;31m    def feature_subplots(df, title):\u001b[0m\n\u001b[0m                                    ^\u001b[0m\n\u001b[0;31mSyntaxError\u001b[0m\u001b[0;31m:\u001b[0m unexpected EOF while parsing\n"
     ]
    }
   ],
   "source": [
    "def feature_subplots(df, title):\n"
   ]
  },
  {
   "cell_type": "code",
   "execution_count": null,
   "metadata": {
    "collapsed": true
   },
   "outputs": [],
   "source": []
  }
 ],
 "metadata": {
  "kernelspec": {
   "display_name": "Python 3",
   "language": "python",
   "name": "python3"
  },
  "language_info": {
   "codemirror_mode": {
    "name": "ipython",
    "version": 3
   },
   "file_extension": ".py",
   "mimetype": "text/x-python",
   "name": "python",
   "nbconvert_exporter": "python",
   "pygments_lexer": "ipython3",
   "version": "3.5.2"
  }
 },
 "nbformat": 4,
 "nbformat_minor": 2
}
